{
  "cells": [
    {
      "cell_type": "raw",
      "metadata": {},
      "source": [
        "---\n",
        "title: \"Is it spring yet?\"\n",
        "author: \"Tooba Rahimnia\"\n",
        "date: \"2024-05-02\"\n",
        "categories: [news, code, analysis]\n",
        "image: \"spring.jpg\"\n",
        "---"
      ],
      "id": "e68d6891"
    },
    {
      "cell_type": "markdown",
      "metadata": {},
      "source": [
        "When I first started learning about image classification back in 2018 I was amazed by how a computer system can recognize objects. One of the first projects I worked on was to classify multiple different objects, and since I was living in the Canada, I came up with the idea of categorizing Canadian seasons, aka: spring, winter and construction.\n",
        "\n",
        "Everything I used for this project is completely free and everyone can implement it within a few minutes!\n",
        "\n",
        "The basic steps we'll take are:\n",
        "\n",
        "1.  Use DuckDuckGo to search for images of \"spring photos\"\n",
        "2.  Use DuckDuckGo to search for images of \"winter photos\"\n",
        "3.  Use DuckDuckGo to search for images of \"construction photos\"\n",
        "4.  Fine-tune a pretrained neural network to recognise these three groups\n",
        "5.  Try running this model on a picture of either category and see if it works.\n",
        "\n",
        "**Step 1: Download images of spring, winter, and construction**\n",
        "\n",
        "``` python\n",
        "from fastcore.all import *\n",
        "import time\n",
        "\n",
        "\n",
        "def search_images(term, max_images=200):\n",
        "    url = 'https://duckduckgo.com/'\n",
        "    res = urlread(url,data={'q':term})\n",
        "    searchObj = re.search(r'vqd=([\\d-]+)\\&', res)\n",
        "    requestUrl = url + 'i.js'\n",
        "    params = dict(l='us-en', o='json', q=term, vqd=searchObj.group(1), f=',,,', p='1', v7exp='a')    \n",
        "    urls,data = set(),{'next':1}\n",
        "    while len(urls)<max_images and 'next' in data:\n",
        "        data = urljson(requestUrl, data=params)\n",
        "        urls.update(L(data['results']).itemgot('image'))\n",
        "        requestUrl = url + data['next']\n",
        "        time.sleep(0.2)\n",
        "    return L(urls)[:max_images]\n",
        "```\n",
        "\n",
        "```{1 + 1}\n",
        "```\n",
        "\n",
        "'''{r}\n",
        "\n",
        "'''"
      ],
      "id": "7067dd06"
    }
  ],
  "metadata": {
    "kernelspec": {
      "display_name": "Python 3",
      "language": "python",
      "name": "python3"
    }
  },
  "nbformat": 4,
  "nbformat_minor": 5
}